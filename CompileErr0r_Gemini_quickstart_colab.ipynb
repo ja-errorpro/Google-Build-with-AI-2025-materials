{
  "cells": [
    {
      "cell_type": "markdown",
      "metadata": {
        "id": "view-in-github",
        "colab_type": "text"
      },
      "source": [
        "<a href=\"https://colab.research.google.com/github/ja-errorpro/Google-Build-with-AI-2025-materials/blob/main/CompileErr0r_Gemini_quickstart_colab.ipynb\" target=\"_parent\"><img src=\"https://colab.research.google.com/assets/colab-badge.svg\" alt=\"Open In Colab\"/></a>"
      ]
    },
    {
      "cell_type": "markdown",
      "source": [
        "此筆記修改自 [Google Colab - Gemini Quickstart](https://colab.research.google.com/github/google/generative-ai-docs/blob/main/site/en/tutorials/quickstart_colab.ipynb)"
      ],
      "metadata": {
        "id": "85O7HGuhgPHL"
      }
    },
    {
      "cell_type": "markdown",
      "metadata": {
        "id": "Tce3stUlHN0L"
      },
      "source": [
        "##### Copyright 2024 Google LLC."
      ]
    },
    {
      "cell_type": "code",
      "execution_count": null,
      "metadata": {
        "cellView": "form",
        "id": "tuOe1ymfHZPu"
      },
      "outputs": [],
      "source": [
        "#@title Licensed under the Apache License, Version 2.0 (the \"License\");\n",
        "# you may not use this file except in compliance with the License.\n",
        "# You may obtain a copy of the License at\n",
        "#\n",
        "# https://www.apache.org/licenses/LICENSE-2.0\n",
        "#\n",
        "# Unless required by applicable law or agreed to in writing, software\n",
        "# distributed under the License is distributed on an \"AS IS\" BASIS,\n",
        "# WITHOUT WARRANTIES OR CONDITIONS OF ANY KIND, either express or implied.\n",
        "# See the License for the specific language governing permissions and\n",
        "# limitations under the License."
      ]
    },
    {
      "cell_type": "markdown",
      "metadata": {
        "id": "-QhPWE1lwZHH"
      },
      "source": [
        "# Gemini API Python 快速入門"
      ]
    },
    {
      "cell_type": "markdown",
      "metadata": {
        "id": "fa7c47ae6451"
      },
      "source": [
        "<table class=\"tfo-notebook-buttons\" align=\"left\">\n",
        "  <td>\n",
        "    <a target=\"_blank\" href=\"https://ai.google.dev/tutorials/quickstart_colab\"><img src=\"https://ai.google.dev/static/site-assets/images/docs/notebook-site-button.png\" height=\"32\" width=\"32\" />View on Google AI</a>\n",
        "  </td>\n",
        "  <td>\n",
        "    <a target=\"_blank\" href=\"https://colab.research.google.com/github/google/generative-ai-docs/blob/main/site/en/tutorials/quickstart_colab.ipynb\"><img src=\"https://www.tensorflow.org/images/colab_logo_32px.png\" />Run in Google Colab</a>\n",
        "  </td>\n",
        "  <td>\n",
        "    <a target=\"_blank\" href=\"https://github.com/google/generative-ai-docs/blob/main/site/en/tutorials/quickstart_colab.ipynb\"><img src=\"https://www.tensorflow.org/images/GitHub-Mark-32px.png\" />View source on GitHub</a>\n",
        "  </td>\n",
        "</table>"
      ]
    },
    {
      "cell_type": "markdown",
      "metadata": {
        "id": "db29b8d4247e"
      },
      "source": [
        "此教程將展示如何使用 Python SDK 使用 Gemini API"
      ]
    },
    {
      "cell_type": "markdown",
      "metadata": {
        "id": "NNNg43Ymw54e"
      },
      "source": [
        "## Prerequisites\n",
        "\n",
        "你可以在 Google Colab 中運行此教程，無需額外的環境配置。\n",
        "\n",
        "或者，若要在本地完成此快速入門，請參閱 [Get started with the Gemini API](https://ai.google.dev/tutorials/quickstart)。"
      ]
    },
    {
      "cell_type": "markdown",
      "metadata": {
        "id": "kHkHARdb1ZID"
      },
      "source": [
        "## 安裝 SDK\n",
        "\n",
        "用於 Gemini API 的 Python SDK 已被包裝在 [`google-generativeai`](https://pypi.org/project/google-generativeai/) 套件. 使用 pip 安裝此依賴項:"
      ]
    },
    {
      "cell_type": "code",
      "execution_count": null,
      "metadata": {
        "id": "J6Pd9SFJ1yVi"
      },
      "outputs": [],
      "source": [
        "!pip install -q -U google-generativeai"
      ]
    },
    {
      "cell_type": "markdown",
      "metadata": {
        "id": "EeMCtmx9ykyx"
      },
      "source": [
        "## 設定 API key\n",
        "\n",
        "要使用 Gemini API，你需要一把 API key。 如果你還沒有，請到 AI Studio 建立一個\n",
        "\n",
        "<a class=\"button\" href=\"https://aistudio.google.com/app/apikey\" target=\"_blank\" rel=\"noopener noreferrer\">Get an API key</a>\n",
        "\n",
        "在 Colab 中，將密鑰添加到左側面板中的 \"🔑\" 秘密管理器。將其命名為 GOOGLE_API_KEY。然後將密鑰傳遞給 SDK："
      ]
    },
    {
      "cell_type": "code",
      "execution_count": null,
      "metadata": {
        "id": "HTiaTu6O1LRC"
      },
      "outputs": [],
      "source": [
        "# Import the Python SDK\n",
        "import google.generativeai as genai\n",
        "# Used to securely store your API key\n",
        "from google.colab import userdata\n",
        "\n",
        "GOOGLE_API_KEY=userdata.get('GOOGLE_API_KEY')\n",
        "genai.configure(api_key=GOOGLE_API_KEY)"
      ]
    },
    {
      "cell_type": "markdown",
      "metadata": {
        "id": "CZPYk29o2No0"
      },
      "source": [
        "## 初始化生成模型\n",
        "\n",
        "在呼叫 API 前，你需要初始化生成模型"
      ]
    },
    {
      "cell_type": "code",
      "execution_count": null,
      "metadata": {
        "id": "s-JqXcDe2hZ_"
      },
      "outputs": [],
      "source": [
        "model = genai.GenerativeModel('gemini-pro')"
      ]
    },
    {
      "cell_type": "markdown",
      "metadata": {
        "id": "nXxypzJH4MUl"
      },
      "source": [
        "## 生成文字"
      ]
    },
    {
      "cell_type": "code",
      "execution_count": null,
      "metadata": {
        "id": "j51mcrLD4Y2W",
        "outputId": "a3a8366d-cce6-41c6-857d-6b3ce26df206",
        "colab": {
          "base_uri": "https://localhost:8080/",
          "height": 263
        }
      },
      "outputs": [
        {
          "output_type": "stream",
          "name": "stdout",
          "text": [
            "在一個奇幻的森林深處，住著一個名叫阿爾弗雷德的年輕冒險家。阿爾弗雷德有一個非凡的同伴，一個名叫薩克斯的褪色皮革背包。薩克斯並非尋常的背包，而是擁有強大魔法的神秘容器。\n",
            "\n",
            "有一天，阿爾弗雷德正在森林中跋涉，尋找傳說中的獨角獸之角。他疲憊不堪，背包沉甸甸的，裝滿了補給和探險必需品。就在阿爾弗雷德準備放棄時，薩克斯微微顫抖了一下。\n",
            "\n",
            "阿爾弗雷德驚訝地打開背包，發現裡面裝滿了新鮮的水果和清澈的泉水。他大吃一驚，想知道這怎麼可能。正當他沉思時，薩克斯再次顫抖，從裡面冒出了一陣溫暖的陽光，照亮了昏暗的森林。\n",
            "\n",
            "阿爾弗雷德意識到薩克斯擁有滿足他需求的魔法力量。它能變出食物和水，照亮黑暗，甚至能召喚輕微的法術。有了薩克斯的幫助，阿爾弗雷德的冒險變得輕鬆得多，他發現自己探索森林的距離比以前更遠了。\n",
            "\n",
            "但薩克斯不僅是一個有用的同伴。隨著時間的推移，阿爾弗雷德與背包建立了深厚的聯繫。他發現薩克斯有自己的個性，能夠理解他的情緒並提供安慰。\n",
            "\n",
            "一天，阿爾弗雷德遭遇了一群危險的狼。他害怕得瑟瑟發抖，但薩克斯感受到他的恐懼，從裡面發出令人震耳欲聾的咆哮聲。狼群嚇得逃走了，阿爾弗雷德意識到薩克斯不僅是他的背包，也是他的守護者。\n",
            "\n",
            "從那天起，阿爾弗雷德和薩克斯的冒險繼續下去。魔法背包不僅是他的必需品容器，也是他的忠實朋友，永遠在他身邊，滿足他的需求，保護他免受傷害。\n"
          ]
        }
      ],
      "source": [
        "response = model.generate_content(\"寫一個關於魔法背包的故事\")\n",
        "print(response.text)"
      ]
    },
    {
      "cell_type": "markdown",
      "metadata": {
        "id": "zUUAQS9u4biH"
      },
      "source": [
        "## 下一步\n",
        "\n",
        "若要了解更多有關 Gemini API，參考 [Python tutorial](https://ai.google.dev/tutorials/python_quickstart).\n",
        "\n",
        "如果你是生成式 AI 的新手，你可能希望查看\n",
        "[concepts guide](https://ai.google.dev/docs/concepts) 和\n",
        "[Gemini API overview](https://ai.google.dev/docs/gemini_api_overview)."
      ]
    }
  ],
  "metadata": {
    "colab": {
      "provenance": [],
      "include_colab_link": true
    },
    "kernelspec": {
      "display_name": "Python 3",
      "name": "python3"
    }
  },
  "nbformat": 4,
  "nbformat_minor": 0
}