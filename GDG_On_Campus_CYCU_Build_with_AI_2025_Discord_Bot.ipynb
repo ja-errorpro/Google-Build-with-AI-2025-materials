{
  "nbformat": 4,
  "nbformat_minor": 0,
  "metadata": {
    "colab": {
      "provenance": [],
      "include_colab_link": true
    },
    "kernelspec": {
      "name": "python3",
      "display_name": "Python 3"
    },
    "language_info": {
      "name": "python"
    }
  },
  "cells": [
    {
      "cell_type": "markdown",
      "metadata": {
        "id": "view-in-github",
        "colab_type": "text"
      },
      "source": [
        "<a href=\"https://colab.research.google.com/github/ja-errorpro/Google-Build-with-AI-2025-materials/blob/main/GDG_On_Campus_CYCU_Build_with_AI_2025_Discord_Bot.ipynb\" target=\"_parent\"><img src=\"https://colab.research.google.com/assets/colab-badge.svg\" alt=\"Open In Colab\"/></a>"
      ]
    },
    {
      "cell_type": "markdown",
      "source": [
        "# GDG On Campus CYCU - Build with AI 2025\n",
        "\n",
        "這份筆記將展示如何將 Gemini AI 串接到 Discord Bot\n",
        "\n",
        "\n",
        "Made By YiJia Huang\n",
        "- GDG On Campus CYCU 2025 Organizer\n",
        "- [![Personal Website](https://img.shields.io/badge/Personal%20Website-green?style=flat-square&link=https://ja-errorpro.codes)](https://ja-errorpro.codes)\n",
        "- [![GitHub](https://img.shields.io/badge/GitHub-Follow%20me-blue?style=social&logo=github&link=https://ja-errorpro.codes)](https://ja-errorpro.codes)\n",
        "- [![LinkedIn](https://img.shields.io/badge/LinkedIn-0A66C2?style=flat-square&link=https://www.linkedin.com/in/乙家-黃-a95b7a114/)](https://www.linkedin.com/in/乙家-黃-a95b7a114/)"
      ],
      "metadata": {
        "id": "dkAsI8ShmaUc"
      }
    },
    {
      "cell_type": "markdown",
      "source": [
        "## Prerequisites\n",
        "\n",
        "您可以在 Google Colab 中運行此教程，無需額外的環境配置。\n",
        "\n",
        "**由於 Colab 的 async 機制與資料安全，**\n",
        "\n",
        "**如果你想要在本地端執行，請使用此這份 Repo 中的程式碼: [Gemini Bootcamp with Discord Bot](https://github.com/ja-errorpro/Gemini-Bootcamp-with-Discord-bot)，內容與 Colab 上的程式碼略有不同**"
      ],
      "metadata": {
        "id": "cHVoE1pQnFOY"
      }
    },
    {
      "cell_type": "markdown",
      "source": [
        "## Install the SDK\n",
        "\n",
        "安裝 Gemini API Python SDK [`google-generativeai`](https://pypi.org/project/google-generativeai/)"
      ],
      "metadata": {
        "id": "3lYRb-h-oqfq"
      }
    },
    {
      "cell_type": "code",
      "execution_count": null,
      "metadata": {
        "id": "mDH_08UnmAre"
      },
      "outputs": [],
      "source": [
        "!pip install -q -U google-generativeai"
      ]
    },
    {
      "cell_type": "markdown",
      "source": [
        "## Install Discord Python SDK\n",
        "\n",
        "安裝 [discord-py-interactions](https://pypi.org/project/discord-py-interactions/) 來串接 Discord API"
      ],
      "metadata": {
        "id": "ejSt7J2vtBXX"
      }
    },
    {
      "cell_type": "code",
      "source": [
        "!pip install -q -U discord-py-interactions"
      ],
      "metadata": {
        "id": "QPtG1eDQttS6"
      },
      "execution_count": null,
      "outputs": []
    },
    {
      "cell_type": "markdown",
      "source": [
        "## 載入必要的套件"
      ],
      "metadata": {
        "id": "hwKBFZW_t_d1"
      }
    },
    {
      "cell_type": "code",
      "source": [
        "import interactions\n",
        "from interactions import slash_command, listen, SlashContext\n",
        "import asyncio\n",
        "import nest_asyncio\n",
        "# 允許 Google Colab 運行 asyncio 事件循環\n",
        "nest_asyncio.apply()\n",
        "import google.generativeai as genai\n",
        "# 此套件將用來保護你的密鑰\n",
        "from google.colab import userdata"
      ],
      "metadata": {
        "id": "yonJ_XV2uQFZ"
      },
      "execution_count": null,
      "outputs": []
    },
    {
      "cell_type": "markdown",
      "source": [
        "## 初始化聊天機器人\n",
        "\n",
        "請登入 [Discord 開發者網站](https://discord.com/developers/applications)，創建機器人，並取得 Token\n",
        "\n",
        "若要使用 Gemini API，您需要一個 API 密鑰。如果您還沒有密鑰，可以在 Google AI Studio 中創建一個密鑰。\n",
        "\n",
        "[Get an API key](https://aistudio.google.com/app/apikey)\n",
        "\n",
        "在 Colab 中，將 Token 與密鑰添加到左側面板中的 \"🔑\" `Secret`。\n",
        "\n",
        "將 Discord Bot Token 命名為 DISCORD_BOT_TOKEN。\n",
        "\n",
        "將 Gemini API 密鑰命名為 GOOGLE_API_KEY。\n",
        "\n",
        "然後將這些資訊傳遞給 SDK:"
      ],
      "metadata": {
        "id": "vRnIWml_uVXH"
      }
    },
    {
      "cell_type": "code",
      "source": [
        "# 設定要給機器人監聽的事件\n",
        "# 範例開啟了所有監聽事件\n",
        "intents = interactions.Intents.ALL\n",
        "bot = interactions.Client(intents=intents)\n",
        "\n",
        "DISCORD_TOKEN = userdata.get('DISCORD_BOT_TOKEN')"
      ],
      "metadata": {
        "id": "pSjUJyVqukP1"
      },
      "execution_count": null,
      "outputs": []
    },
    {
      "cell_type": "markdown",
      "source": [
        "## 初始化生成模型"
      ],
      "metadata": {
        "id": "PmyQyiC4vMAH"
      }
    },
    {
      "cell_type": "code",
      "source": [
        "GENAI_API_KEY = userdata.get('GOOGLE_API_KEY')\n",
        "genai.configure(api_key=GENAI_API_KEY)"
      ],
      "metadata": {
        "id": "bRlLulOivZ9C"
      },
      "execution_count": null,
      "outputs": []
    },
    {
      "cell_type": "markdown",
      "source": [
        "## 調整 Gemini 設定\n",
        "\n",
        "這裡可以調整模型的行為參數\n",
        "\n",
        "舉例來說，Temperature 將決定機器人回應的創意程度"
      ],
      "metadata": {
        "id": "VVUqAiN5xOxH"
      }
    },
    {
      "cell_type": "code",
      "source": [
        "generation_config = {\n",
        "   \"temperature\": 1,\n",
        "   \"top_p\": 0.95,\n",
        "   \"top_k\": 40,\n",
        "   \"max_output_tokens\": 1024, # 注意：由於 Discord 訊息的字數限制，請不要設超過 2000\n",
        "   \"response_mime_type\": \"text/plain\"\n",
        "}"
      ],
      "metadata": {
        "id": "M6Bw58sjxUvw"
      },
      "execution_count": null,
      "outputs": []
    },
    {
      "cell_type": "markdown",
      "source": [
        "## 設定系統提示(System Instruction)\n",
        "\n",
        "這是讓 AI 能夠正確運作的重要部分。\n",
        "\n",
        "這將定義 AI 的角色、行為和任務，並確保 AI 能夠符合使用者的要求。\n",
        "\n",
        "範例的系統提示並不完整也不一定是最好的，請根據您的需求進行修改。\n",
        "\n",
        "Example:\n",
        "你是一名 Google Developer Groups On Campus 的核心成員，專注於協助學生使用 Flutter 以及 GCP 進行開發，擁有豐富的專案開發經驗。\n",
        "\n",
        "你可以參考這個連結來了解更多：\n",
        "https://github.com/google-gemini/cookbook/blob/main/quickstarts/System_instructions.ipynb"
      ],
      "metadata": {
        "id": "mgGuyLkezyD4"
      }
    },
    {
      "cell_type": "code",
      "source": [
        "system_prompt = [\n",
        "    \"你是一名 AI 助理，\",\n",
        "    \"你喜歡且會盡可能地幫助使用者解決任何程式開發相關的問題。\",\n",
        "    \"你全程都必須使用繁體中文溝通\",\n",
        "]"
      ],
      "metadata": {
        "id": "cQ3N-2tk0GMj"
      },
      "execution_count": null,
      "outputs": []
    },
    {
      "cell_type": "markdown",
      "source": [
        "## 輸出可用的模型\n",
        "\n",
        "- gemini-1.5-flash：最快的多模態模型\n",
        "- gemini-1.5-pro：最強大的智慧多模態模型\n",
        "\n",
        "你可以自行決定要使用哪個版本的模型，\n",
        "\n",
        "注意：若要進一步了解頻率限制和模型功能，請參考 [Gemini 模型](https://ai.google.dev/gemini-api/docs/models/gemini?hl=zh-tw)\n",
        "\n",
        "此段程式碼來源：(https://ai.google.dev/gemini-api/docs/get-started/tutorial?lang=python)"
      ],
      "metadata": {
        "id": "EfUeKCJXyeZJ"
      }
    },
    {
      "cell_type": "code",
      "source": [
        "for m in genai.list_models():\n",
        "  if 'generateContent' in m.supported_generation_methods:\n",
        "    print(m.name)"
      ],
      "metadata": {
        "id": "Eyl36Zf_ym0F",
        "colab": {
          "base_uri": "https://localhost:8080/",
          "height": 572
        },
        "outputId": "8b0506de-700b-493d-8f39-cfa23d599b86"
      },
      "execution_count": null,
      "outputs": [
        {
          "output_type": "stream",
          "name": "stdout",
          "text": [
            "models/gemini-1.0-pro-latest\n",
            "models/gemini-1.0-pro\n",
            "models/gemini-pro\n",
            "models/gemini-1.0-pro-001\n",
            "models/gemini-1.0-pro-vision-latest\n",
            "models/gemini-pro-vision\n",
            "models/gemini-1.5-pro-latest\n",
            "models/gemini-1.5-pro-001\n",
            "models/gemini-1.5-pro-002\n",
            "models/gemini-1.5-pro\n",
            "models/gemini-1.5-flash-latest\n",
            "models/gemini-1.5-flash-001\n",
            "models/gemini-1.5-flash-001-tuning\n",
            "models/gemini-1.5-flash\n",
            "models/gemini-1.5-flash-002\n",
            "models/gemini-1.5-flash-8b\n",
            "models/gemini-1.5-flash-8b-001\n",
            "models/gemini-1.5-flash-8b-latest\n",
            "models/gemini-1.5-flash-8b-exp-0827\n",
            "models/gemini-1.5-flash-8b-exp-0924\n",
            "models/gemini-2.0-flash-exp\n",
            "models/gemini-2.0-flash\n",
            "models/gemini-2.0-flash-001\n",
            "models/gemini-2.0-flash-lite-preview\n",
            "models/gemini-2.0-flash-lite-preview-02-05\n",
            "models/gemini-2.0-pro-exp\n",
            "models/gemini-2.0-pro-exp-02-05\n",
            "models/gemini-exp-1206\n",
            "models/gemini-2.0-flash-thinking-exp-01-21\n",
            "models/gemini-2.0-flash-thinking-exp\n",
            "models/gemini-2.0-flash-thinking-exp-1219\n",
            "models/learnlm-1.5-pro-experimental\n"
          ]
        }
      ]
    },
    {
      "cell_type": "markdown",
      "source": [
        "參考上方程式碼的輸出，請填入你想使用的模型\n",
        "\n",
        "範例使用 `gemini-1.5-pro`"
      ],
      "metadata": {
        "id": "o1x3rS-t0mjJ"
      }
    },
    {
      "cell_type": "code",
      "source": [
        "model = genai.GenerativeModel(\n",
        "    model_name=\"gemini-1.5-pro\",\n",
        "    system_instruction=system_prompt,\n",
        "    generation_config=generation_config,\n",
        ")"
      ],
      "metadata": {
        "id": "YX_J2mQT0Pab"
      },
      "execution_count": null,
      "outputs": []
    },
    {
      "cell_type": "markdown",
      "source": [
        "## 定義機器人行為"
      ],
      "metadata": {
        "id": "amipggcr1AE3"
      }
    },
    {
      "cell_type": "code",
      "source": [
        "@bot.event\n",
        "async def on_ready(): # 當機器人準備好時，輸出 Logged in as 機器人名稱\n",
        "  print(f'Logged in as {bot.user}', flush=True)"
      ],
      "metadata": {
        "id": "at15cj9A1FW0"
      },
      "execution_count": null,
      "outputs": []
    },
    {
      "cell_type": "markdown",
      "source": [
        "## 定義斜線指令\n",
        "\n",
        "根據使用者的 prompt 生成回應\n",
        "\n",
        "當機器人上線時，將向 Discord 註冊指令\n",
        "\n",
        "使用者需要在聊天室使用：/ask \\<prompt\\>\n",
        "\n",
        "來觸發指令"
      ],
      "metadata": {
        "id": "cNQbRvh11gjZ"
      }
    },
    {
      "cell_type": "code",
      "source": [
        "@slash_command(name = \"ask\",\n",
        "       description=\"與機器人聊天\",\n",
        "       options=[\n",
        "        interactions.SlashCommandOption( # 定義指令選項\n",
        "        name=\"prompt\", # 選項名稱，注意：必須與下方定義函數的參數名稱相同，如果你想使用不同的參數名稱，請在 @slash_command() 裡使用 argument_name 參數\n",
        "        description=\"輸入你想要對機器人說的話\", # 選項的描述\n",
        "        type=3, # 這個參數型別是字串\n",
        "        required=True # True 表示這個參數必填\n",
        "        )\n",
        "       ]\n",
        ") # 新增一個叫做 ask 的 command\n",
        "async def chat(ctx: SlashContext, prompt: str):\n",
        "  # 因為 Discord Bot 若沒有回應超過五秒就會 Timeout，因此需要使用 defer() 告訴 Discord 需要等待\n",
        "  await ctx.defer()\n",
        "  # 設定使用者的 prompt\n",
        "  content = [\n",
        "    {\n",
        "      \"role\": \"user\",\n",
        "      \"parts\": prompt\n",
        "    }\n",
        "  ]\n",
        "  try:\n",
        "    response = model.generate_content(content)\n",
        "    if response.text:\n",
        "      await ctx.send(response.text)\n",
        "    else:\n",
        "      await ctx.send(\"目前機器人無法回應，請稍後再試\")\n",
        "  except Exception as e:\n",
        "    await ctx.send(\"目前機器人無法回應，請稍後再試: \" + str(e))\n",
        "\n",
        "  return"
      ],
      "metadata": {
        "id": "VpFXI-5C2Eeg"
      },
      "execution_count": null,
      "outputs": []
    },
    {
      "cell_type": "markdown",
      "source": [
        "## 啟動機器人\n",
        "\n",
        "注意：如果你上次已經執行過此機器人，請重新初始化一次機器人以更新 Session"
      ],
      "metadata": {
        "id": "m7GKqZKZ4kAM"
      }
    },
    {
      "cell_type": "code",
      "source": [
        "async def start_bot():\n",
        "  bot.start(DISCORD_TOKEN)\n",
        "\n",
        "asyncio.run(start_bot())"
      ],
      "metadata": {
        "id": "CXiAa_j54mf-"
      },
      "execution_count": null,
      "outputs": []
    }
  ]
}